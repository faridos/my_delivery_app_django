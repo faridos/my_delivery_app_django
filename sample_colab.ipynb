{
  "nbformat": 4,
  "nbformat_minor": 0,
  "metadata": {
    "colab": {
      "provenance": [],
      "authorship_tag": "ABX9TyNq62JzaE+WDOetgkbeOeug",
      "include_colab_link": true
    },
    "kernelspec": {
      "name": "python3",
      "display_name": "Python 3"
    },
    "language_info": {
      "name": "python"
    }
  },
  "cells": [
    {
      "cell_type": "markdown",
      "metadata": {
        "id": "view-in-github",
        "colab_type": "text"
      },
      "source": [
        "<a href=\"https://colab.research.google.com/github/faridos/my_delivery_app_django/blob/master/sample_colab.ipynb\" target=\"_parent\"><img src=\"https://colab.research.google.com/assets/colab-badge.svg\" alt=\"Open In Colab\"/></a>"
      ]
    },
    {
      "cell_type": "markdown",
      "source": [
        "Introduction\n"
      ],
      "metadata": {
        "id": "1kBGj2pN2g4C"
      }
    },
    {
      "cell_type": "markdown",
      "source": [
        "Code Sample\n"
      ],
      "metadata": {
        "id": "paFNB5w82jNZ"
      }
    },
    {
      "cell_type": "code",
      "source": [
        "#@title Default title text\n",
        "print(\"heey world\")"
      ],
      "metadata": {
        "colab": {
          "base_uri": "https://localhost:8080/"
        },
        "id": "RNhMqXsO3YW-",
        "outputId": "e564955e-aa59-4d20-c063-0ae58ccc9d09"
      },
      "execution_count": 2,
      "outputs": [
        {
          "output_type": "stream",
          "name": "stdout",
          "text": [
            "heey world\n"
          ]
        }
      ]
    }
  ]
}